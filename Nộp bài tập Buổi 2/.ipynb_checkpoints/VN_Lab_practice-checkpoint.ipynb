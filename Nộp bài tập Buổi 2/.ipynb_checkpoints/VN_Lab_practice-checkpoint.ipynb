{
 "cells": [
  {
   "cell_type": "code",
   "execution_count": null,
   "id": "92c0a2b4-b3c4-4d64-99fd-7a9e49d6e16a",
   "metadata": {},
   "outputs": [],
   "source": [
    "# Question 1:\n",
    "# Viết chương trình nhập vào một số thực. Đơn vị tính cho số này là centimet (cm). \n",
    "# Hãy in ra số tương đương tính bằng foot (số thực, có 2 số lẻ thập phân) và inch (số thực, có 2 số lẻ thập phân). \n",
    "# Với 1 inch = 2.54 cm và 1 foot = 12 inches."
   ]
  },
  {
   "cell_type": "code",
   "execution_count": 2,
   "id": "fc8780a2-b843-4bcc-8d97-c52f54e76569",
   "metadata": {},
   "outputs": [
    {
     "name": "stdin",
     "output_type": "stream",
     "text": [
      "Enter a number:  5.7866\n"
     ]
    },
    {
     "name": "stdout",
     "output_type": "stream",
     "text": [
      "Number in foot: 0.19\n",
      "Number in inch: 2.28\n"
     ]
    }
   ],
   "source": [
    "input_value = float(input(\"Enter a number: \"))  # Takes a number as input and converts it to a float\n",
    "inch = input_value / 2.54  # Converts the input value to inches\n",
    "foot = inch / 12  # Converts inches to feet\n",
    "\n",
    "# Prints the result with two decimal places of precision\n",
    "print(\"Number in foot:\", \"{:.2f}\".format(foot))\n",
    "print(\"Number in inch:\", \"{:.2f}\".format(inch))\n"
   ]
  },
  {
   "cell_type": "markdown",
   "id": "17f22985-9c16-40d3-822d-de8bd7c66df8",
   "metadata": {},
   "source": [
    "<!-- Question 2:Viết chương trình nhập vào số giây từ 0 tới 68399, đổi số giây này thành dạng [giờ:phút:giây],\n",
    "Mỗi thành phần là một số nguyên có 2 chữ số.\n",
    "Ví dụ: 02:11:05 -->\n"
   ]
  },
  {
   "cell_type": "code",
   "execution_count": null,
   "id": "0fb4fd0d-d100-4e0b-9791-f8b37171f2bc",
   "metadata": {},
   "outputs": [],
   "source": [
    "# Viết chương trình nhập vào số giây từ 0 tới 68399, đổi số giây này thành dạng [giờ:phút:giây], \n",
    "# mỗi thành phần là một số nguyên có 2 chữ số.\n",
    "# Ví dụ: 02:11:05"
   ]
  },
  {
   "cell_type": "code",
   "execution_count": 4,
   "id": "e70901d3-2aa2-4ecc-a9ba-24e6c1a6aef2",
   "metadata": {},
   "outputs": [
    {
     "name": "stdin",
     "output_type": "stream",
     "text": [
      "Enter a number: 68000\n"
     ]
    },
    {
     "name": "stdout",
     "output_type": "stream",
     "text": [
      "18:53:20\n"
     ]
    }
   ],
   "source": [
    "input_second_number = int(input(\"Enter a number:\"))\n",
    "#convert number \n",
    "seconds = input_second_number % (24 * 3600)\n",
    "hour = seconds // 3600\n",
    "seconds %= 3600\n",
    "minutes = seconds // 60\n",
    "seconds %= 60\n",
    "#print the result with format\n",
    "print(\"%d:%02d:%02d\" % (hour, minutes, seconds))\n"
   ]
  },
  {
   "cell_type": "code",
   "execution_count": null,
   "id": "442a23f9-d021-4b9b-a662-75852d89269d",
   "metadata": {},
   "outputs": [],
   "source": [
    "# Question 3:\n",
    "# Viết chương trình nhập vào 4 số nguyên.\n",
    "# Hiển thị ra số lớn nhất và nhỏ nhất\n",
    "# Ví dụ:\n",
    "# nhập vào 4 số 1,2,3,4 thì kết quả là:\n",
    "# Số lớn nhất là: 4\n",
    "# Số nhỏ nhất là: 1\n"
   ]
  },
  {
   "cell_type": "code",
   "execution_count": null,
   "id": "b47e8145-6036-4f9b-9226-e9f5b96754e3",
   "metadata": {},
   "outputs": [],
   "source": [
    "input_number = int(input(\"Enter a number:\"))\n"
   ]
  }
 ],
 "metadata": {
  "kernelspec": {
   "display_name": "Python 3 (ipykernel)",
   "language": "python",
   "name": "python3"
  },
  "language_info": {
   "codemirror_mode": {
    "name": "ipython",
    "version": 3
   },
   "file_extension": ".py",
   "mimetype": "text/x-python",
   "name": "python",
   "nbconvert_exporter": "python",
   "pygments_lexer": "ipython3",
   "version": "3.11.7"
  }
 },
 "nbformat": 4,
 "nbformat_minor": 5
}
