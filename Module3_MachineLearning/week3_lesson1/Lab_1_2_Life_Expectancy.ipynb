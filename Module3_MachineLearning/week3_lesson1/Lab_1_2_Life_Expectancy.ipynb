{
 "cells": [
  {
   "cell_type": "markdown",
   "metadata": {
    "id": "EbskizSFNZuS"
   },
   "source": [
    "# Dự đoán tuổi thọ\n",
    "\n",
    "Thời lượng ước tính: **120** phút\n",
    "\n",
    "## Tổng quan\n",
    "\n",
    "Các tiến bộ trong y học, sự gia tăng của các cơ sở chăm sóc sức khỏe và tiêu chuẩn chăm sóc được cải thiện đều góp phần làm tăng tuổi thọ trung bình trong vài thập kỷ qua. Mặc dù điều này có vẻ là thành tựu to lớn đối với nhân loại, nhưng nó cũng dẫn đến việc ngày càng nhiều người cao tuổi bị đưa vào các cộng đồng sống được chăm sóc và trợ giúp của người cao tuổi. Đạo đức, lợi ích và bất lợi của việc gửi cha mẹ vào trong những cơ sở như vậy vẫn còn đang gây tranh cãi; tuy nhiên, thực tế này đã làm tăng gánh nặng tài chính cho cả khu vực tư nhân và chính phủ.\n",
    "\n",
    "Trong Lab này, bạn sẽ sử dụng tập con là tập dữ liệu tuổi thọ, được cung cấp bởi trang Trung tâm Thống kê Y tế Quốc gia của Trung tâm Kiểm soát và Phòng ngừa Dịch bệnh. Trang lưu trữ nhiều tập dữ liệu mở về các chủ đề khác nhau, từ thương tích, nghèo đói, sức khỏe phụ nữ, giáo dục, bảo hiểm y tế và tất nhiên là các bệnh truyền nhiễm, .... Nhưng cái bạn sẽ sử dụng là tập dữ liệu \"Tuổi thọ trung bình theo giới tính, chủng tộc\", có số liệu thống kê từ những năm 1900 đến nay được thu thập ở Hoa Kỳ. Chúng tôi đã bao gồm một bản sao của tập dữ liệu dưới dạng **[life_expectancy.csv](https://drive.google.com/file/d/1efDU4iNsXdfDOwmTkLUkUsNxaI8v7--n/view?usp=sharing)**. Tập dữ liệu chỉ liệt kê tuổi thọ của người da trắng và da đen, bởi vì trong suốt phần lớn thời gian thu thập, đó là hai chủng tộc lớn đã chủ động ghi lại số liệu thống kê của họ ở Hoa Kỳ.\n",
    "\n",
    "## Mục tiêu\n",
    "\n",
    "*   Xây dựng mô hình Hồi Quy Tuyến Tính từ thư viện scikit-learn để ngoại suy mọi người sẽ sống được bao lâu trong tương lai. Khu vực tư nhân và các chính phủ phản ánh những tính toán này khi tính toán các khoản chi trả cho an sinh xã hội, thuế, cơ sở hạ tầng, ..\n",
    "\n",
    "*   Trực quan hóa mô hình sau khi xây dựng.\n",
    "\n"
   ]
  },
  {
   "cell_type": "code",
   "execution_count": 43,
   "metadata": {
    "id": "sLpcnJrbNZuT"
   },
   "outputs": [],
   "source": [
    "import pandas as pd\n",
    "import seaborn as sns\n",
    "import numpy as np\n",
    "import matplotlib\n",
    "import matplotlib.pyplot as plt\n",
    "\n",
    "matplotlib.style.use('ggplot') # Look Pretty"
   ]
  },
  {
   "cell_type": "markdown",
   "metadata": {
    "id": "QC-07iUxNZue"
   },
   "source": [
    "### Một hàm hữu dụng"
   ]
  },
  {
   "cell_type": "markdown",
   "metadata": {
    "id": "iIqIxTADNZug"
   },
   "source": [
    "Phương pháp tiện lợi này sẽ giải quyết các quan sát kiểm tra của bạn, so sánh chúng với đường hồi quy và hiển thị hệ số R2"
   ]
  },
  {
   "cell_type": "code",
   "execution_count": 27,
   "metadata": {
    "id": "x_o6tM4dNZuh"
   },
   "outputs": [],
   "source": [
    "def drawLine(model, X_test, y_test, title):\n",
    "    fig = plt.figure()\n",
    "    ax = fig.add_subplot(111)\n",
    "    ax.scatter(X_test, y_test, c='g', marker='o')\n",
    "    ax.plot(X_test, model.predict(X_test), color='orange', linewidth=1, alpha=0.7)\n",
    "\n",
    "    print(\"Est 2014 \" + title + \" Life Expectancy: \", model.predict([[2014]])[0])\n",
    "    print(\"Est 2030 \" + title + \" Life Expectancy: \", model.predict([[2030]])[0])\n",
    "    print(\"Est 2045 \" + title + \" Life Expectancy: \", model.predict([[2045]])[0])\n",
    "\n",
    "    score = model.score(X_test, y_test)\n",
    "    title += \" R2: \" + str(score)\n",
    "    ax.set_title(title)\n",
    "\n",
    "    plt.show()"
   ]
  },
  {
   "cell_type": "markdown",
   "metadata": {
    "collapsed": true,
    "id": "6FJs_0ufNZun",
    "jupyter": {
     "outputs_hidden": true
    }
   },
   "source": [
    "## 1. Chuẩn bị dữ liệu"
   ]
  },
  {
   "cell_type": "markdown",
   "metadata": {
    "collapsed": true,
    "id": "6_8izaLMNZup",
    "jupyter": {
     "outputs_hidden": true
    }
   },
   "source": [
    "Load dữ liệu ở đây vào biến `X`. Như thường lệ, hãy thực hiện .describe và in tập dữ liệu của bạn và so sánh với tập dữ liệu được tải trong tệp văn bản hoặc trong ứng dụng trang tính:"
   ]
  },
  {
   "cell_type": "code",
   "execution_count": 28,
   "metadata": {
    "id": "bmT8Od0BNZur"
   },
   "outputs": [
    {
     "data": {
      "text/html": [
       "<div>\n",
       "<style scoped>\n",
       "    .dataframe tbody tr th:only-of-type {\n",
       "        vertical-align: middle;\n",
       "    }\n",
       "\n",
       "    .dataframe tbody tr th {\n",
       "        vertical-align: top;\n",
       "    }\n",
       "\n",
       "    .dataframe thead th {\n",
       "        text-align: right;\n",
       "    }\n",
       "</style>\n",
       "<table border=\"1\" class=\"dataframe\">\n",
       "  <thead>\n",
       "    <tr style=\"text-align: right;\">\n",
       "      <th></th>\n",
       "      <th>Year</th>\n",
       "      <th>WhiteMale</th>\n",
       "      <th>WhiteFemale</th>\n",
       "      <th>BlackMale</th>\n",
       "      <th>BlackFemale</th>\n",
       "    </tr>\n",
       "  </thead>\n",
       "  <tbody>\n",
       "    <tr>\n",
       "      <th>0</th>\n",
       "      <td>1900</td>\n",
       "      <td>46.6</td>\n",
       "      <td>48.7</td>\n",
       "      <td>32.5</td>\n",
       "      <td>33.5</td>\n",
       "    </tr>\n",
       "    <tr>\n",
       "      <th>1</th>\n",
       "      <td>1950</td>\n",
       "      <td>66.5</td>\n",
       "      <td>72.2</td>\n",
       "      <td>59.1</td>\n",
       "      <td>62.9</td>\n",
       "    </tr>\n",
       "    <tr>\n",
       "      <th>2</th>\n",
       "      <td>1960</td>\n",
       "      <td>67.4</td>\n",
       "      <td>74.1</td>\n",
       "      <td>61.1</td>\n",
       "      <td>66.3</td>\n",
       "    </tr>\n",
       "    <tr>\n",
       "      <th>3</th>\n",
       "      <td>1970</td>\n",
       "      <td>68.0</td>\n",
       "      <td>75.6</td>\n",
       "      <td>60.0</td>\n",
       "      <td>68.3</td>\n",
       "    </tr>\n",
       "    <tr>\n",
       "      <th>4</th>\n",
       "      <td>1975</td>\n",
       "      <td>69.5</td>\n",
       "      <td>77.3</td>\n",
       "      <td>62.4</td>\n",
       "      <td>71.3</td>\n",
       "    </tr>\n",
       "  </tbody>\n",
       "</table>\n",
       "</div>"
      ],
      "text/plain": [
       "   Year  WhiteMale  WhiteFemale  BlackMale  BlackFemale\n",
       "0  1900       46.6         48.7       32.5         33.5\n",
       "1  1950       66.5         72.2       59.1         62.9\n",
       "2  1960       67.4         74.1       61.1         66.3\n",
       "3  1970       68.0         75.6       60.0         68.3\n",
       "4  1975       69.5         77.3       62.4         71.3"
      ]
     },
     "execution_count": 28,
     "metadata": {},
     "output_type": "execute_result"
    }
   ],
   "source": [
    "df = pd.read_csv(\"life_expectancy.csv\", delimiter='\\t')\n",
    "df.head()"
   ]
  },
  {
   "cell_type": "code",
   "execution_count": 29,
   "metadata": {},
   "outputs": [
    {
     "data": {
      "text/html": [
       "<div>\n",
       "<style scoped>\n",
       "    .dataframe tbody tr th:only-of-type {\n",
       "        vertical-align: middle;\n",
       "    }\n",
       "\n",
       "    .dataframe tbody tr th {\n",
       "        vertical-align: top;\n",
       "    }\n",
       "\n",
       "    .dataframe thead th {\n",
       "        text-align: right;\n",
       "    }\n",
       "</style>\n",
       "<table border=\"1\" class=\"dataframe\">\n",
       "  <thead>\n",
       "    <tr style=\"text-align: right;\">\n",
       "      <th></th>\n",
       "      <th>Year</th>\n",
       "      <th>WhiteMale</th>\n",
       "      <th>WhiteFemale</th>\n",
       "      <th>BlackMale</th>\n",
       "      <th>BlackFemale</th>\n",
       "    </tr>\n",
       "  </thead>\n",
       "  <tbody>\n",
       "    <tr>\n",
       "      <th>0</th>\n",
       "      <td>1900</td>\n",
       "      <td>46.6</td>\n",
       "      <td>48.7</td>\n",
       "      <td>32.5</td>\n",
       "      <td>33.5</td>\n",
       "    </tr>\n",
       "    <tr>\n",
       "      <th>1</th>\n",
       "      <td>1950</td>\n",
       "      <td>66.5</td>\n",
       "      <td>72.2</td>\n",
       "      <td>59.1</td>\n",
       "      <td>62.9</td>\n",
       "    </tr>\n",
       "    <tr>\n",
       "      <th>2</th>\n",
       "      <td>1960</td>\n",
       "      <td>67.4</td>\n",
       "      <td>74.1</td>\n",
       "      <td>61.1</td>\n",
       "      <td>66.3</td>\n",
       "    </tr>\n",
       "    <tr>\n",
       "      <th>3</th>\n",
       "      <td>1970</td>\n",
       "      <td>68.0</td>\n",
       "      <td>75.6</td>\n",
       "      <td>60.0</td>\n",
       "      <td>68.3</td>\n",
       "    </tr>\n",
       "    <tr>\n",
       "      <th>4</th>\n",
       "      <td>1975</td>\n",
       "      <td>69.5</td>\n",
       "      <td>77.3</td>\n",
       "      <td>62.4</td>\n",
       "      <td>71.3</td>\n",
       "    </tr>\n",
       "    <tr>\n",
       "      <th>5</th>\n",
       "      <td>1980</td>\n",
       "      <td>70.7</td>\n",
       "      <td>78.1</td>\n",
       "      <td>63.8</td>\n",
       "      <td>72.5</td>\n",
       "    </tr>\n",
       "    <tr>\n",
       "      <th>6</th>\n",
       "      <td>1981</td>\n",
       "      <td>71.1</td>\n",
       "      <td>78.4</td>\n",
       "      <td>64.5</td>\n",
       "      <td>73.2</td>\n",
       "    </tr>\n",
       "    <tr>\n",
       "      <th>7</th>\n",
       "      <td>1982</td>\n",
       "      <td>71.5</td>\n",
       "      <td>78.7</td>\n",
       "      <td>65.1</td>\n",
       "      <td>73.6</td>\n",
       "    </tr>\n",
       "    <tr>\n",
       "      <th>8</th>\n",
       "      <td>1983</td>\n",
       "      <td>71.6</td>\n",
       "      <td>78.7</td>\n",
       "      <td>65.2</td>\n",
       "      <td>73.5</td>\n",
       "    </tr>\n",
       "    <tr>\n",
       "      <th>9</th>\n",
       "      <td>1984</td>\n",
       "      <td>71.8</td>\n",
       "      <td>78.7</td>\n",
       "      <td>65.3</td>\n",
       "      <td>73.6</td>\n",
       "    </tr>\n",
       "    <tr>\n",
       "      <th>10</th>\n",
       "      <td>1985</td>\n",
       "      <td>71.8</td>\n",
       "      <td>78.7</td>\n",
       "      <td>65.0</td>\n",
       "      <td>73.4</td>\n",
       "    </tr>\n",
       "    <tr>\n",
       "      <th>11</th>\n",
       "      <td>1986</td>\n",
       "      <td>71.9</td>\n",
       "      <td>78.8</td>\n",
       "      <td>64.8</td>\n",
       "      <td>73.4</td>\n",
       "    </tr>\n",
       "    <tr>\n",
       "      <th>12</th>\n",
       "      <td>1987</td>\n",
       "      <td>72.1</td>\n",
       "      <td>78.9</td>\n",
       "      <td>64.7</td>\n",
       "      <td>73.4</td>\n",
       "    </tr>\n",
       "    <tr>\n",
       "      <th>13</th>\n",
       "      <td>1988</td>\n",
       "      <td>72.2</td>\n",
       "      <td>78.9</td>\n",
       "      <td>64.4</td>\n",
       "      <td>73.2</td>\n",
       "    </tr>\n",
       "    <tr>\n",
       "      <th>14</th>\n",
       "      <td>1989</td>\n",
       "      <td>72.5</td>\n",
       "      <td>79.2</td>\n",
       "      <td>64.3</td>\n",
       "      <td>73.3</td>\n",
       "    </tr>\n",
       "    <tr>\n",
       "      <th>15</th>\n",
       "      <td>1990</td>\n",
       "      <td>72.7</td>\n",
       "      <td>79.4</td>\n",
       "      <td>64.5</td>\n",
       "      <td>73.6</td>\n",
       "    </tr>\n",
       "    <tr>\n",
       "      <th>16</th>\n",
       "      <td>1991</td>\n",
       "      <td>72.9</td>\n",
       "      <td>79.6</td>\n",
       "      <td>64.6</td>\n",
       "      <td>73.8</td>\n",
       "    </tr>\n",
       "    <tr>\n",
       "      <th>17</th>\n",
       "      <td>1992</td>\n",
       "      <td>73.2</td>\n",
       "      <td>79.8</td>\n",
       "      <td>65.0</td>\n",
       "      <td>73.9</td>\n",
       "    </tr>\n",
       "    <tr>\n",
       "      <th>18</th>\n",
       "      <td>1993</td>\n",
       "      <td>73.1</td>\n",
       "      <td>79.5</td>\n",
       "      <td>64.6</td>\n",
       "      <td>73.7</td>\n",
       "    </tr>\n",
       "    <tr>\n",
       "      <th>19</th>\n",
       "      <td>1994</td>\n",
       "      <td>73.3</td>\n",
       "      <td>79.6</td>\n",
       "      <td>64.9</td>\n",
       "      <td>73.9</td>\n",
       "    </tr>\n",
       "    <tr>\n",
       "      <th>20</th>\n",
       "      <td>1995</td>\n",
       "      <td>73.4</td>\n",
       "      <td>79.6</td>\n",
       "      <td>65.2</td>\n",
       "      <td>73.9</td>\n",
       "    </tr>\n",
       "    <tr>\n",
       "      <th>21</th>\n",
       "      <td>1996</td>\n",
       "      <td>73.9</td>\n",
       "      <td>79.7</td>\n",
       "      <td>66.1</td>\n",
       "      <td>74.2</td>\n",
       "    </tr>\n",
       "    <tr>\n",
       "      <th>22</th>\n",
       "      <td>1997</td>\n",
       "      <td>74.3</td>\n",
       "      <td>79.9</td>\n",
       "      <td>67.2</td>\n",
       "      <td>74.7</td>\n",
       "    </tr>\n",
       "    <tr>\n",
       "      <th>23</th>\n",
       "      <td>1998</td>\n",
       "      <td>74.5</td>\n",
       "      <td>80.0</td>\n",
       "      <td>67.6</td>\n",
       "      <td>74.8</td>\n",
       "    </tr>\n",
       "    <tr>\n",
       "      <th>24</th>\n",
       "      <td>1999</td>\n",
       "      <td>74.6</td>\n",
       "      <td>79.9</td>\n",
       "      <td>67.8</td>\n",
       "      <td>74.7</td>\n",
       "    </tr>\n",
       "    <tr>\n",
       "      <th>25</th>\n",
       "      <td>2000</td>\n",
       "      <td>74.7</td>\n",
       "      <td>79.9</td>\n",
       "      <td>68.2</td>\n",
       "      <td>75.1</td>\n",
       "    </tr>\n",
       "    <tr>\n",
       "      <th>26</th>\n",
       "      <td>2001</td>\n",
       "      <td>74.9</td>\n",
       "      <td>80.0</td>\n",
       "      <td>68.5</td>\n",
       "      <td>75.3</td>\n",
       "    </tr>\n",
       "    <tr>\n",
       "      <th>27</th>\n",
       "      <td>2002</td>\n",
       "      <td>74.9</td>\n",
       "      <td>80.1</td>\n",
       "      <td>68.7</td>\n",
       "      <td>75.4</td>\n",
       "    </tr>\n",
       "    <tr>\n",
       "      <th>28</th>\n",
       "      <td>2003</td>\n",
       "      <td>75.1</td>\n",
       "      <td>80.2</td>\n",
       "      <td>68.9</td>\n",
       "      <td>75.7</td>\n",
       "    </tr>\n",
       "    <tr>\n",
       "      <th>29</th>\n",
       "      <td>2004</td>\n",
       "      <td>75.5</td>\n",
       "      <td>80.5</td>\n",
       "      <td>69.4</td>\n",
       "      <td>76.1</td>\n",
       "    </tr>\n",
       "    <tr>\n",
       "      <th>30</th>\n",
       "      <td>2005</td>\n",
       "      <td>75.5</td>\n",
       "      <td>80.5</td>\n",
       "      <td>69.5</td>\n",
       "      <td>76.2</td>\n",
       "    </tr>\n",
       "    <tr>\n",
       "      <th>31</th>\n",
       "      <td>2006</td>\n",
       "      <td>75.8</td>\n",
       "      <td>80.7</td>\n",
       "      <td>69.9</td>\n",
       "      <td>76.7</td>\n",
       "    </tr>\n",
       "    <tr>\n",
       "      <th>32</th>\n",
       "      <td>2007</td>\n",
       "      <td>76.0</td>\n",
       "      <td>80.9</td>\n",
       "      <td>70.3</td>\n",
       "      <td>77.0</td>\n",
       "    </tr>\n",
       "    <tr>\n",
       "      <th>33</th>\n",
       "      <td>2008</td>\n",
       "      <td>76.1</td>\n",
       "      <td>80.9</td>\n",
       "      <td>70.9</td>\n",
       "      <td>77.3</td>\n",
       "    </tr>\n",
       "    <tr>\n",
       "      <th>34</th>\n",
       "      <td>2009</td>\n",
       "      <td>76.4</td>\n",
       "      <td>81.2</td>\n",
       "      <td>71.4</td>\n",
       "      <td>77.7</td>\n",
       "    </tr>\n",
       "    <tr>\n",
       "      <th>35</th>\n",
       "      <td>2010</td>\n",
       "      <td>76.5</td>\n",
       "      <td>81.3</td>\n",
       "      <td>71.8</td>\n",
       "      <td>78.0</td>\n",
       "    </tr>\n",
       "    <tr>\n",
       "      <th>36</th>\n",
       "      <td>2011</td>\n",
       "      <td>76.6</td>\n",
       "      <td>81.3</td>\n",
       "      <td>72.2</td>\n",
       "      <td>78.2</td>\n",
       "    </tr>\n",
       "    <tr>\n",
       "      <th>37</th>\n",
       "      <td>2012</td>\n",
       "      <td>76.7</td>\n",
       "      <td>81.4</td>\n",
       "      <td>72.3</td>\n",
       "      <td>78.4</td>\n",
       "    </tr>\n",
       "    <tr>\n",
       "      <th>38</th>\n",
       "      <td>2013</td>\n",
       "      <td>76.7</td>\n",
       "      <td>81.4</td>\n",
       "      <td>72.3</td>\n",
       "      <td>78.4</td>\n",
       "    </tr>\n",
       "    <tr>\n",
       "      <th>39</th>\n",
       "      <td>2014</td>\n",
       "      <td>76.7</td>\n",
       "      <td>81.4</td>\n",
       "      <td>72.5</td>\n",
       "      <td>78.4</td>\n",
       "    </tr>\n",
       "  </tbody>\n",
       "</table>\n",
       "</div>"
      ],
      "text/plain": [
       "    Year  WhiteMale  WhiteFemale  BlackMale  BlackFemale\n",
       "0   1900       46.6         48.7       32.5         33.5\n",
       "1   1950       66.5         72.2       59.1         62.9\n",
       "2   1960       67.4         74.1       61.1         66.3\n",
       "3   1970       68.0         75.6       60.0         68.3\n",
       "4   1975       69.5         77.3       62.4         71.3\n",
       "5   1980       70.7         78.1       63.8         72.5\n",
       "6   1981       71.1         78.4       64.5         73.2\n",
       "7   1982       71.5         78.7       65.1         73.6\n",
       "8   1983       71.6         78.7       65.2         73.5\n",
       "9   1984       71.8         78.7       65.3         73.6\n",
       "10  1985       71.8         78.7       65.0         73.4\n",
       "11  1986       71.9         78.8       64.8         73.4\n",
       "12  1987       72.1         78.9       64.7         73.4\n",
       "13  1988       72.2         78.9       64.4         73.2\n",
       "14  1989       72.5         79.2       64.3         73.3\n",
       "15  1990       72.7         79.4       64.5         73.6\n",
       "16  1991       72.9         79.6       64.6         73.8\n",
       "17  1992       73.2         79.8       65.0         73.9\n",
       "18  1993       73.1         79.5       64.6         73.7\n",
       "19  1994       73.3         79.6       64.9         73.9\n",
       "20  1995       73.4         79.6       65.2         73.9\n",
       "21  1996       73.9         79.7       66.1         74.2\n",
       "22  1997       74.3         79.9       67.2         74.7\n",
       "23  1998       74.5         80.0       67.6         74.8\n",
       "24  1999       74.6         79.9       67.8         74.7\n",
       "25  2000       74.7         79.9       68.2         75.1\n",
       "26  2001       74.9         80.0       68.5         75.3\n",
       "27  2002       74.9         80.1       68.7         75.4\n",
       "28  2003       75.1         80.2       68.9         75.7\n",
       "29  2004       75.5         80.5       69.4         76.1\n",
       "30  2005       75.5         80.5       69.5         76.2\n",
       "31  2006       75.8         80.7       69.9         76.7\n",
       "32  2007       76.0         80.9       70.3         77.0\n",
       "33  2008       76.1         80.9       70.9         77.3\n",
       "34  2009       76.4         81.2       71.4         77.7\n",
       "35  2010       76.5         81.3       71.8         78.0\n",
       "36  2011       76.6         81.3       72.2         78.2\n",
       "37  2012       76.7         81.4       72.3         78.4\n",
       "38  2013       76.7         81.4       72.3         78.4\n",
       "39  2014       76.7         81.4       72.5         78.4"
      ]
     },
     "execution_count": 29,
     "metadata": {},
     "output_type": "execute_result"
    }
   ],
   "source": [
    "df.reset_index(drop=True, inplace=True)\n",
    "df"
   ]
  },
  {
   "cell_type": "code",
   "execution_count": 30,
   "metadata": {},
   "outputs": [
    {
     "data": {
      "text/html": [
       "<div>\n",
       "<style scoped>\n",
       "    .dataframe tbody tr th:only-of-type {\n",
       "        vertical-align: middle;\n",
       "    }\n",
       "\n",
       "    .dataframe tbody tr th {\n",
       "        vertical-align: top;\n",
       "    }\n",
       "\n",
       "    .dataframe thead th {\n",
       "        text-align: right;\n",
       "    }\n",
       "</style>\n",
       "<table border=\"1\" class=\"dataframe\">\n",
       "  <thead>\n",
       "    <tr style=\"text-align: right;\">\n",
       "      <th></th>\n",
       "      <th>Year</th>\n",
       "      <th>WhiteMale</th>\n",
       "      <th>WhiteFemale</th>\n",
       "      <th>BlackMale</th>\n",
       "      <th>BlackFemale</th>\n",
       "    </tr>\n",
       "  </thead>\n",
       "  <tbody>\n",
       "    <tr>\n",
       "      <th>count</th>\n",
       "      <td>40.000000</td>\n",
       "      <td>40.000000</td>\n",
       "      <td>40.000000</td>\n",
       "      <td>40.000000</td>\n",
       "      <td>40.000000</td>\n",
       "    </tr>\n",
       "    <tr>\n",
       "      <th>mean</th>\n",
       "      <td>1991.250000</td>\n",
       "      <td>72.730000</td>\n",
       "      <td>78.592500</td>\n",
       "      <td>65.912500</td>\n",
       "      <td>73.262500</td>\n",
       "    </tr>\n",
       "    <tr>\n",
       "      <th>std</th>\n",
       "      <td>20.536085</td>\n",
       "      <td>4.968681</td>\n",
       "      <td>5.200561</td>\n",
       "      <td>6.422284</td>\n",
       "      <td>7.157592</td>\n",
       "    </tr>\n",
       "    <tr>\n",
       "      <th>min</th>\n",
       "      <td>1900.000000</td>\n",
       "      <td>46.600000</td>\n",
       "      <td>48.700000</td>\n",
       "      <td>32.500000</td>\n",
       "      <td>33.500000</td>\n",
       "    </tr>\n",
       "    <tr>\n",
       "      <th>25%</th>\n",
       "      <td>1984.750000</td>\n",
       "      <td>71.800000</td>\n",
       "      <td>78.700000</td>\n",
       "      <td>64.575000</td>\n",
       "      <td>73.400000</td>\n",
       "    </tr>\n",
       "    <tr>\n",
       "      <th>50%</th>\n",
       "      <td>1994.500000</td>\n",
       "      <td>73.350000</td>\n",
       "      <td>79.650000</td>\n",
       "      <td>65.250000</td>\n",
       "      <td>73.900000</td>\n",
       "    </tr>\n",
       "    <tr>\n",
       "      <th>75%</th>\n",
       "      <td>2004.250000</td>\n",
       "      <td>75.500000</td>\n",
       "      <td>80.500000</td>\n",
       "      <td>69.425000</td>\n",
       "      <td>76.125000</td>\n",
       "    </tr>\n",
       "    <tr>\n",
       "      <th>max</th>\n",
       "      <td>2014.000000</td>\n",
       "      <td>76.700000</td>\n",
       "      <td>81.400000</td>\n",
       "      <td>72.500000</td>\n",
       "      <td>78.400000</td>\n",
       "    </tr>\n",
       "  </tbody>\n",
       "</table>\n",
       "</div>"
      ],
      "text/plain": [
       "              Year  WhiteMale  WhiteFemale  BlackMale  BlackFemale\n",
       "count    40.000000  40.000000    40.000000  40.000000    40.000000\n",
       "mean   1991.250000  72.730000    78.592500  65.912500    73.262500\n",
       "std      20.536085   4.968681     5.200561   6.422284     7.157592\n",
       "min    1900.000000  46.600000    48.700000  32.500000    33.500000\n",
       "25%    1984.750000  71.800000    78.700000  64.575000    73.400000\n",
       "50%    1994.500000  73.350000    79.650000  65.250000    73.900000\n",
       "75%    2004.250000  75.500000    80.500000  69.425000    76.125000\n",
       "max    2014.000000  76.700000    81.400000  72.500000    78.400000"
      ]
     },
     "execution_count": 30,
     "metadata": {},
     "output_type": "execute_result"
    }
   ],
   "source": [
    "df.describe()"
   ]
  },
  {
   "cell_type": "markdown",
   "metadata": {
    "id": "DvScm573NZux"
   },
   "source": [
    "\n",
    "Tạo mô hình hồi quy tuyến tính của bạn tại đây và lưu trữ nó trong biến `model`. Đừng huấn luyện thật hoặc làm bất cứ điều gì khác với nó:"
   ]
  },
  {
   "cell_type": "code",
   "execution_count": 22,
   "metadata": {
    "id": "fjM2b1ZqNZuz"
   },
   "outputs": [
    {
     "name": "stdout",
     "output_type": "stream",
     "text": [
      "\n",
      "Linear Regression Model:\n",
      " LinearRegression()\n"
     ]
    }
   ],
   "source": [
    "from sklearn.linear_model import LinearRegression\n",
    "\n",
    "# Initialize the linear regression model\n",
    "model = LinearRegression()\n",
    "\n",
    "# Print the model to verify\n",
    "print(\"\\nLinear Regression Model:\\n\", model)\n",
    "\n"
   ]
  },
  {
   "cell_type": "markdown",
   "metadata": {
    "collapsed": false,
    "id": "JunfsyPXNZu5",
    "jupyter": {
     "outputs_hidden": false
    }
   },
   "source": [
    "\n",
    "Cắt nhỏ dữ liệu của bạn theo cách thủ công (ví dụ: không sử dụng `train_test_split` mà thực sự tự lập chỉ mục. Đặt `X_train` thành các giá trị năm ÍT hơn 1986 và `y_train` là giá trị tuổi 'WhiteMale' tương ứng. Bạn cũng có thể muốn đọc ghi chú về cách slice (cắt) ở cuối tài liệu này trước khi tiếp tục:"
   ]
  },
  {
   "cell_type": "code",
   "execution_count": 19,
   "metadata": {},
   "outputs": [],
   "source": [
    "from sklearn.linear_model import LinearRegression"
   ]
  },
  {
   "cell_type": "code",
   "execution_count": 33,
   "metadata": {
    "id": "eOnsQY5gNZu7"
   },
   "outputs": [
    {
     "name": "stdout",
     "output_type": "stream",
     "text": [
      "X_train:\n",
      "     Year\n",
      "0   1900\n",
      "1   1950\n",
      "2   1960\n",
      "3   1970\n",
      "4   1975\n",
      "5   1980\n",
      "6   1981\n",
      "7   1982\n",
      "8   1983\n",
      "9   1984\n",
      "10  1985\n",
      "\n",
      "y_train:\n",
      " 0     46.6\n",
      "1     66.5\n",
      "2     67.4\n",
      "3     68.0\n",
      "4     69.5\n",
      "5     70.7\n",
      "6     71.1\n",
      "7     71.5\n",
      "8     71.6\n",
      "9     71.8\n",
      "10    71.8\n",
      "Name: WhiteMale, dtype: float64\n"
     ]
    }
   ],
   "source": [
    "data_df = pd.DataFrame(df)\n",
    "\n",
    "# Slice the DataFrame manually to get X_train and y_train\n",
    "X_train = data_df[data_df['Year'] < 1986][['Year']]\n",
    "y_train = data_df[data_df['Year'] < 1986]['WhiteMale']\n",
    "\n",
    "# Print the resulting X_train and y_train\n",
    "print(\"X_train:\\n\", X_train)\n",
    "print(\"\\ny_train:\\n\", y_train)\n",
    "\n"
   ]
  },
  {
   "cell_type": "markdown",
   "metadata": {
    "id": "66NvFjtzNZvE"
   },
   "source": [
    "## 2. Huấn luyện mô hình\n",
    "Huấn luyện mô hình sau đó truyền nó vào `drawLine` với training set và nhãn."
   ]
  },
  {
   "cell_type": "code",
   "execution_count": 35,
   "metadata": {
    "id": "nig1mhj0NZvF"
   },
   "outputs": [
    {
     "data": {
      "image/png": "[encoded data removed]",
      "text/plain": [
       "<Figure size 640x480 with 1 Axes>"
      ]
     },
     "metadata": {},
     "output_type": "display_data"
    }
   ],
   "source": [
    "# Train the model\n",
    "model.fit(X_train, y_train)\n",
    "# Hypothetical drawLine function\n",
    "def drawLine(model, X_train, y_train):\n",
    "    plt.scatter(X_train, y_train, color='blue', label='Training data')\n",
    "    plt.plot(X_train, model.predict(X_train), color='red', label='Regression line')\n",
    "    plt.xlabel('Year')\n",
    "    plt.ylabel('WhiteMale Life Expectancy')\n",
    "    plt.title('Linear Regression Line')\n",
    "    plt.legend()\n",
    "    plt.show()\n",
    "\n",
    "# Call the drawLine function with the trained model and training data\n",
    "drawLine(model, X_train, y_train)"
   ]
  },
  {
   "cell_type": "markdown",
   "metadata": {
    "id": "MBTZzIRsQCRj"
   },
   "source": [
    "## 3. Đánh giá Mô hình\n",
    "Bạn có thể đặt tên cho mô hình là 'WhiteMale'. `drawLine` sẽ xuất ra console (bảng điều khiển) một phép ngoại suy/xấp xỉ năm 2014 cho những gì nó tin rằng tuổi thọ của phụ nữ da trắng ở Hoa Kỳ sẽ là ... dựa trên dữ liệu trước năm 1986 mà bạn đã huấn luyện. Nó cũng sẽ tạo ra một phép ngoại suy năm 2030 và 2045:"
   ]
  },
  {
   "cell_type": "code",
   "execution_count": 39,
   "metadata": {
    "id": "LFoZM7_NQKqw"
   },
   "outputs": [
    {
     "name": "stdout",
     "output_type": "stream",
     "text": [
      "\n",
      "Model Coefficients:\n",
      " [0.28357122]\n",
      "\n",
      "Model Intercept:\n",
      " -490.2560905703641\n"
     ]
    },
    {
     "data": {
      "image/png": "[encoded data removed]",
      "text/plain": [
       "<Figure size 640x480 with 1 Axes>"
      ]
     },
     "metadata": {},
     "output_type": "display_data"
    },
    {
     "name": "stdout",
     "output_type": "stream",
     "text": [
      "Predicted life expectancy for WhiteMale in 2014: 80.86\n",
      "Predicted life expectancy for WhiteMale in 2030: 85.39\n",
      "Predicted life expectancy for WhiteMale in 2045: 89.65\n"
     ]
    }
   ],
   "source": [
    "WhiteMale = LinearRegression()\n",
    "WhiteMale.fit(X_train, y_train)\n",
    "# Print the model coefficients to verify training\n",
    "print(\"\\nModel Coefficients:\\n\", WhiteMale.coef_)\n",
    "print(\"\\nModel Intercept:\\n\", WhiteMale.intercept_)\n",
    "\n",
    "# Define the drawLine function\n",
    "def drawLine(model, X_train, y_train):\n",
    "    future_years = pd.DataFrame({'Year': [2014,2030,2045]})\n",
    "    future_predictions = model.predict(future_years)\n",
    "\n",
    "    for year, prediction in zip(future_years['Year'], future_predictions):\n",
    "        print(f\"Predicted life expectancy for WhiteMale in {year}: {prediction:.2f}\")\n",
    "\n",
    "#Plot the data and the regression line\n",
    "plt.scatter(X_train, y_train, color='yellow', label='Training data')\n",
    "plt.plot(X_train, model.predict(X_train), color = 'red', label = 'Regression line')\n",
    "plt.xlabel('Year')\n",
    "plt.ylabel('WhiteMale life expectancy')\n",
    "plt.title('Linear regression line')\n",
    "plt.legend()\n",
    "plt.show()\n",
    "\n",
    "# Call the drawLine function with the trained model and training data\n",
    "drawLine(WhiteMale, X_train, y_train)"
   ]
  },
  {
   "cell_type": "markdown",
   "metadata": {
    "id": "JedI0_4mNZvN"
   },
   "source": [
    "In tuổi thọ thực tế của 'WhiteMale' 2014 từ tập dữ liệu đã tải"
   ]
  },
  {
   "cell_type": "code",
   "execution_count": 40,
   "metadata": {
    "id": "taMzWaXENZvO"
   },
   "outputs": [
    {
     "name": "stdout",
     "output_type": "stream",
     "text": [
      "Actual life expectancy for WhiteMale in 2014: 76.7\n"
     ]
    }
   ],
   "source": [
    "actual_2014 = data_df[data_df['Year'] == 2014]['WhiteMale'].values[0]\n",
    "print(f\"Actual life expectancy for WhiteMale in 2014: {actual_2014}\")\n",
    "\n"
   ]
  },
  {
   "cell_type": "markdown",
   "metadata": {
    "id": "RaU2b5J8NZvU"
   },
   "source": [
    "Lặp lại quá trình, nhưng thay vì cho WhiteMale, lần này chọn BlackFemale. Tạo một lát cho BlackFemales, fit mô hình, sau đó gọi `drawLine`. Cuối cùng, hãy in ra tuổi thọ thực tế của BlackFemale 2014:"
   ]
  },
  {
   "cell_type": "code",
   "execution_count": 41,
   "metadata": {
    "id": "WzCxoeVENZvV"
   },
   "outputs": [
    {
     "name": "stdout",
     "output_type": "stream",
     "text": [
      "\n",
      "Model Coefficients:\n",
      " [0.28357122]\n",
      "\n",
      "Model Intercept:\n",
      " -490.2560905703641\n",
      "Actual life expectancy for BlackFemale in 2014: 78.4\n",
      "Predicted life expectancy for BlackFemale in 2014: 80.86\n",
      "Predicted life expectancy for BlackFemale in 2030: 85.39\n",
      "Predicted life expectancy for BlackFemale in 2045: 89.65\n"
     ]
    },
    {
     "data": {
      "image/png": "[encoded data removed]",
      "text/plain": [
       "<Figure size 640x480 with 1 Axes>"
      ]
     },
     "metadata": {},
     "output_type": "display_data"
    }
   ],
   "source": [
    "\n",
    "# Initialize the linear regression model named 'BlackFemale'\n",
    "BlackFemale = LinearRegression()\n",
    "\n",
    "# Train the model\n",
    "BlackFemale.fit(X_train, y_train)\n",
    "\n",
    "# Print the model coefficients to verify training\n",
    "print(\"\\nModel Coefficients:\\n\", BlackFemale.coef_)\n",
    "print(\"\\nModel Intercept:\\n\", BlackFemale.intercept_)\n",
    "\n",
    "# Actual life expectancy for 'BlackFemale' in 2014 from the dataset\n",
    "actual_2014 = data_df[data_df['Year'] == 2014]['BlackFemale'].values[0]\n",
    "print(f\"Actual life expectancy for BlackFemale in 2014: {actual_2014}\")\n",
    "\n",
    "# Define the drawLine function\n",
    "def drawLine(model, X_train, y_train):\n",
    "    # Extrapolate predictions for 2014, 2030, and 2045\n",
    "    future_years = pd.DataFrame({'Year': [2014, 2030, 2045]})\n",
    "    future_predictions = model.predict(future_years)\n",
    "    \n",
    "    for year, prediction in zip(future_years['Year'], future_predictions):\n",
    "        print(f\"Predicted life expectancy for BlackFemale in {year}: {prediction:.2f}\")\n",
    "\n",
    "    # Plot the data and the regression line\n",
    "    plt.scatter(X_train, y_train, color='blue', label='Training data')\n",
    "    plt.plot(X_train, model.predict(X_train), color='red', label='Regression line')\n",
    "    plt.xlabel('Year')\n",
    "    plt.ylabel('BlackFemale Life Expectancy')\n",
    "    plt.title('Linear Regression Line')\n",
    "    plt.legend()\n",
    "    plt.show()\n",
    "\n",
    "# Call the drawLine function with the trained model and training data\n",
    "drawLine(BlackFemale, X_train, y_train)"
   ]
  },
  {
   "cell_type": "markdown",
   "metadata": {
    "id": "nmOKKBrmNZvb"
   },
   "source": [
    "Cuối cùng, in ra một ma trận tương quan cho toàn bộ tập dữ liệu và hiển thị hình ảnh trực quan của ma trận tương quan, giống như chúng tôi đã mô tả trong phần trực quan của khóa học:"
   ]
  },
  {
   "cell_type": "code",
   "execution_count": 44,
   "metadata": {
    "id": "VHq2oDlGNZvd"
   },
   "outputs": [
    {
     "name": "stdout",
     "output_type": "stream",
     "text": [
      "\n",
      "Correlation Matrix:\n",
      "                  Year  WhiteMale  WhiteFemale  BlackMale  BlackFemale\n",
      "Year         1.000000   0.974154     0.913907   0.960635     0.940429\n",
      "WhiteMale    0.974154   1.000000     0.975164   0.987974     0.985009\n",
      "WhiteFemale  0.913907   0.975164     1.000000   0.956689     0.994656\n",
      "BlackMale    0.960635   0.987974     0.956689   1.000000     0.975922\n",
      "BlackFemale  0.940429   0.985009     0.994656   0.975922     1.000000\n"
     ]
    },
    {
     "data": {
      "image/png": "[encoded data removed]",
      "text/plain": [
       "<Figure size 1000x800 with 2 Axes>"
      ]
     },
     "metadata": {},
     "output_type": "display_data"
    }
   ],
   "source": [
    "# Calculate the correlation matrix\n",
    "correlation_matrix = data_df.corr()\n",
    "print(\"\\nCorrelation Matrix:\\n\", correlation_matrix)\n",
    "\n",
    "# Visualize the correlation matrix using a heatmap\n",
    "plt.figure(figsize=(10, 8))\n",
    "sns.heatmap(correlation_matrix, annot=True, cmap='coolwarm', fmt='.2f', linewidths=0.5)\n",
    "plt.title('Correlation Matrix Heatmap')\n",
    "plt.show()"
   ]
  },
  {
   "cell_type": "markdown",
   "metadata": {
    "collapsed": false,
    "id": "K4uQ-vVeNZvu",
    "jupyter": {
     "outputs_hidden": false
    }
   },
   "source": [
    "## Lưu ý về Fitting, Scoring, và Predicting:"
   ]
  },
  {
   "cell_type": "markdown",
   "metadata": {
    "collapsed": true,
    "id": "BEBtKp4jNZvw",
    "jupyter": {
     "outputs_hidden": true
    }
   },
   "source": [
    "Đây là một gợi ý để giúp bạn hoàn thành lab mà không cần vò đầu bứt tai! Khi sử dụng `.fit()`, `.score()`, và `.predict()` trên mô hình, SciKit-Learn mong muốn dữ liệu training ở dạng bảng tính (giống Mảng 2D). Điều này có nghĩa là bạn không thể chỉ truyền vào Mảng 1D (slice) là xong.\n",
    "\n",
    "Để chuẩn bị dữ liệu hợp lý, bạn phải truyền vào Mảng Numpy 2D hoặc một khung dữ liệu. Nhưng điều gì sẽ xảy ra nếu bạn thực sự chỉ muốn truyền vào một đặc trưng duy nhất?\n",
    "\n",
    "Nếu bạn slice khung dữ liệu của mình bằng cú pháp `df[['ColumnName']]`, kết quả trả về thực là _dataframe_. Hãy tiếp tục và thực hiện `type()` trên đó để kiểm tra. Vì nó đã là một khung dữ liệu nên bạn không cần thay đổi gì thêm.\n",
    "\n",
    "Nhưng nếu bạn slice khung dữ liệu bằng cú pháp `df.ColumnName` HOẶC nếu bạn gọi `df ['ColumnName']`, kết quả trả về thực sự là một chuỗi (Mảng 1D)! Điều này sẽ khiến SKLearn gặp lỗi. Vì vậy, nếu bạn đang cắt bằng một trong hai kỹ thuật đó, trước khi gửi dữ liệu training hoặc testing tới `.fit` / `.score`, hãy thực hiện `any_column = my_column.reshape(-1,1)`.\n",
    "\n",
    "Thao tác này sẽ chuyển đổi mảng 1D là `[n_samples]` thành mảng 2D có shape là `[n_samples, 1]`. Một đặc trung duy nhất với nhiều mẫu.\n",
    "\n",
    "Nếu bạn đã làm điều gì đó như `my_column = [my_column]`, điều đó sẽ tạo ra một mảng có shape `[1, n_samples]`, điều này không chính xác vì SKLearn mong muốn dữ liệu của bạn được sắp xếp thành `[n_samples, n_features]`. Hãy nhớ rằng tất cả những điều trên chỉ liên quan đến `X` hoặc dữ liệu đầu vào và không áp dụng cho `y` hoặc nhãn."
   ]
  }
 ],
 "metadata": {
  "anaconda-cloud": {},
  "colab": {
   "provenance": []
  },
  "kernelspec": {
   "display_name": "Python 3 (ipykernel)",
   "language": "python",
   "name": "python3"
  },
  "language_info": {
   "codemirror_mode": {
    "name": "ipython",
    "version": 3
   },
   "file_extension": ".py",
   "mimetype": "text/x-python",
   "name": "python",
   "nbconvert_exporter": "python",
   "pygments_lexer": "ipython3",
   "version": "3.11.7"
  },
  "toc": {
   "colors": {
    "hover_highlight": "#DAA520",
    "running_highlight": "#FF0000",
    "selected_highlight": "#FFD700"
   },
   "moveMenuLeft": true,
   "nav_menu": {
    "height": "58px",
    "width": "252px"
   },
   "navigate_menu": true,
   "number_sections": true,
   "sideBar": true,
   "threshold": 4,
   "toc_cell": false,
   "toc_section_display": "block",
   "toc_window_display": false,
   "widenNotebook": false
  }
 },
 "nbformat": 4,
 "nbformat_minor": 4
}
