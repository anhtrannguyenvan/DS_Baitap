{
 "cells": [
  {
   "cell_type": "markdown",
   "id": "bd75ee0d",
   "metadata": {
    "id": "bd75ee0d"
   },
   "source": [
    "# Lab: Làm việc với dữ liệu DateTime trong Pandas"
   ]
  },
  {
   "cell_type": "markdown",
   "id": "c683bba0",
   "metadata": {
    "id": "c683bba0"
   },
   "source": [
    "# Đọc dữ liệu từ file"
   ]
  },
  {
   "cell_type": "code",
   "execution_count": 3,
   "id": "89048e2b",
   "metadata": {
    "id": "89048e2b",
    "outputId": "3be3a33e-2560-4c64-ab11-1c3b7fe4d707"
   },
   "outputs": [
    {
     "data": {
      "text/html": [
       "<div>\n",
       "<style scoped>\n",
       "    .dataframe tbody tr th:only-of-type {\n",
       "        vertical-align: middle;\n",
       "    }\n",
       "\n",
       "    .dataframe tbody tr th {\n",
       "        vertical-align: top;\n",
       "    }\n",
       "\n",
       "    .dataframe thead th {\n",
       "        text-align: right;\n",
       "    }\n",
       "</style>\n",
       "<table border=\"1\" class=\"dataframe\">\n",
       "  <thead>\n",
       "    <tr style=\"text-align: right;\">\n",
       "      <th></th>\n",
       "      <th>App Name</th>\n",
       "      <th>App Id</th>\n",
       "      <th>Category</th>\n",
       "      <th>Rating</th>\n",
       "      <th>Rating Count</th>\n",
       "      <th>Installs</th>\n",
       "      <th>Minimum Installs</th>\n",
       "      <th>Maximum Installs</th>\n",
       "      <th>Free</th>\n",
       "      <th>Price</th>\n",
       "      <th>...</th>\n",
       "      <th>Developer Website</th>\n",
       "      <th>Developer Email</th>\n",
       "      <th>Released</th>\n",
       "      <th>Last Updated</th>\n",
       "      <th>Content Rating</th>\n",
       "      <th>Privacy Policy</th>\n",
       "      <th>Ad Supported</th>\n",
       "      <th>In App Purchases</th>\n",
       "      <th>Editors Choice</th>\n",
       "      <th>Scraped Time</th>\n",
       "    </tr>\n",
       "  </thead>\n",
       "  <tbody>\n",
       "    <tr>\n",
       "      <th>0</th>\n",
       "      <td>Gakondo</td>\n",
       "      <td>com.ishakwe.gakondo</td>\n",
       "      <td>Adventure</td>\n",
       "      <td>0.0</td>\n",
       "      <td>0.0</td>\n",
       "      <td>10+</td>\n",
       "      <td>10.0</td>\n",
       "      <td>15</td>\n",
       "      <td>True</td>\n",
       "      <td>0.0</td>\n",
       "      <td>...</td>\n",
       "      <td>https://beniyizibyose.tk/#/</td>\n",
       "      <td>jean21101999@gmail.com</td>\n",
       "      <td>Feb 26, 2020</td>\n",
       "      <td>Feb 26, 2020</td>\n",
       "      <td>Everyone</td>\n",
       "      <td>https://beniyizibyose.tk/projects/</td>\n",
       "      <td>False</td>\n",
       "      <td>False</td>\n",
       "      <td>False</td>\n",
       "      <td>2021-06-15 20:19:35</td>\n",
       "    </tr>\n",
       "    <tr>\n",
       "      <th>1</th>\n",
       "      <td>Ampere Battery Info</td>\n",
       "      <td>com.webserveis.batteryinfo</td>\n",
       "      <td>Tools</td>\n",
       "      <td>4.4</td>\n",
       "      <td>64.0</td>\n",
       "      <td>5,000+</td>\n",
       "      <td>5000.0</td>\n",
       "      <td>7662</td>\n",
       "      <td>True</td>\n",
       "      <td>0.0</td>\n",
       "      <td>...</td>\n",
       "      <td>https://webserveis.netlify.app/</td>\n",
       "      <td>webserveis@gmail.com</td>\n",
       "      <td>May 21, 2020</td>\n",
       "      <td>May 06, 2021</td>\n",
       "      <td>Everyone</td>\n",
       "      <td>https://dev4phones.wordpress.com/licencia-de-uso/</td>\n",
       "      <td>True</td>\n",
       "      <td>False</td>\n",
       "      <td>False</td>\n",
       "      <td>2021-06-15 20:19:35</td>\n",
       "    </tr>\n",
       "    <tr>\n",
       "      <th>2</th>\n",
       "      <td>Vibook</td>\n",
       "      <td>com.doantiepvien.crm</td>\n",
       "      <td>Productivity</td>\n",
       "      <td>0.0</td>\n",
       "      <td>0.0</td>\n",
       "      <td>50+</td>\n",
       "      <td>50.0</td>\n",
       "      <td>58</td>\n",
       "      <td>True</td>\n",
       "      <td>0.0</td>\n",
       "      <td>...</td>\n",
       "      <td>NaN</td>\n",
       "      <td>vnacrewit@gmail.com</td>\n",
       "      <td>Aug 9, 2019</td>\n",
       "      <td>Aug 19, 2019</td>\n",
       "      <td>Everyone</td>\n",
       "      <td>https://www.vietnamairlines.com/vn/en/terms-an...</td>\n",
       "      <td>False</td>\n",
       "      <td>False</td>\n",
       "      <td>False</td>\n",
       "      <td>2021-06-15 20:19:35</td>\n",
       "    </tr>\n",
       "    <tr>\n",
       "      <th>3</th>\n",
       "      <td>Smart City Trichy Public Service Vehicles 17UC...</td>\n",
       "      <td>cst.stJoseph.ug17ucs548</td>\n",
       "      <td>Communication</td>\n",
       "      <td>5.0</td>\n",
       "      <td>5.0</td>\n",
       "      <td>10+</td>\n",
       "      <td>10.0</td>\n",
       "      <td>19</td>\n",
       "      <td>True</td>\n",
       "      <td>0.0</td>\n",
       "      <td>...</td>\n",
       "      <td>http://www.climatesmarttech.com/</td>\n",
       "      <td>climatesmarttech2@gmail.com</td>\n",
       "      <td>Sep 10, 2018</td>\n",
       "      <td>Oct 13, 2018</td>\n",
       "      <td>Everyone</td>\n",
       "      <td>NaN</td>\n",
       "      <td>True</td>\n",
       "      <td>False</td>\n",
       "      <td>False</td>\n",
       "      <td>2021-06-15 20:19:35</td>\n",
       "    </tr>\n",
       "    <tr>\n",
       "      <th>4</th>\n",
       "      <td>GROW.me</td>\n",
       "      <td>com.horodyski.grower</td>\n",
       "      <td>Tools</td>\n",
       "      <td>0.0</td>\n",
       "      <td>0.0</td>\n",
       "      <td>100+</td>\n",
       "      <td>100.0</td>\n",
       "      <td>478</td>\n",
       "      <td>True</td>\n",
       "      <td>0.0</td>\n",
       "      <td>...</td>\n",
       "      <td>http://www.horodyski.com.pl</td>\n",
       "      <td>rmilekhorodyski@gmail.com</td>\n",
       "      <td>Feb 21, 2020</td>\n",
       "      <td>Nov 12, 2018</td>\n",
       "      <td>Everyone</td>\n",
       "      <td>http://www.horodyski.com.pl</td>\n",
       "      <td>False</td>\n",
       "      <td>False</td>\n",
       "      <td>False</td>\n",
       "      <td>2021-06-15 20:19:35</td>\n",
       "    </tr>\n",
       "  </tbody>\n",
       "</table>\n",
       "<p>5 rows × 24 columns</p>\n",
       "</div>"
      ],
      "text/plain": [
       "                                            App Name  \\\n",
       "0                                            Gakondo   \n",
       "1                                Ampere Battery Info   \n",
       "2                                             Vibook   \n",
       "3  Smart City Trichy Public Service Vehicles 17UC...   \n",
       "4                                            GROW.me   \n",
       "\n",
       "                       App Id       Category  Rating  Rating Count Installs  \\\n",
       "0         com.ishakwe.gakondo      Adventure     0.0           0.0      10+   \n",
       "1  com.webserveis.batteryinfo          Tools     4.4          64.0   5,000+   \n",
       "2        com.doantiepvien.crm   Productivity     0.0           0.0      50+   \n",
       "3     cst.stJoseph.ug17ucs548  Communication     5.0           5.0      10+   \n",
       "4        com.horodyski.grower          Tools     0.0           0.0     100+   \n",
       "\n",
       "   Minimum Installs  Maximum Installs  Free  Price  ...  \\\n",
       "0              10.0                15  True    0.0  ...   \n",
       "1            5000.0              7662  True    0.0  ...   \n",
       "2              50.0                58  True    0.0  ...   \n",
       "3              10.0                19  True    0.0  ...   \n",
       "4             100.0               478  True    0.0  ...   \n",
       "\n",
       "                  Developer Website              Developer Email  \\\n",
       "0       https://beniyizibyose.tk/#/       jean21101999@gmail.com   \n",
       "1   https://webserveis.netlify.app/         webserveis@gmail.com   \n",
       "2                               NaN          vnacrewit@gmail.com   \n",
       "3  http://www.climatesmarttech.com/  climatesmarttech2@gmail.com   \n",
       "4       http://www.horodyski.com.pl    rmilekhorodyski@gmail.com   \n",
       "\n",
       "       Released  Last Updated Content Rating  \\\n",
       "0  Feb 26, 2020  Feb 26, 2020       Everyone   \n",
       "1  May 21, 2020  May 06, 2021       Everyone   \n",
       "2   Aug 9, 2019  Aug 19, 2019       Everyone   \n",
       "3  Sep 10, 2018  Oct 13, 2018       Everyone   \n",
       "4  Feb 21, 2020  Nov 12, 2018       Everyone   \n",
       "\n",
       "                                      Privacy Policy Ad Supported  \\\n",
       "0                 https://beniyizibyose.tk/projects/        False   \n",
       "1  https://dev4phones.wordpress.com/licencia-de-uso/         True   \n",
       "2  https://www.vietnamairlines.com/vn/en/terms-an...        False   \n",
       "3                                                NaN         True   \n",
       "4                        http://www.horodyski.com.pl        False   \n",
       "\n",
       "  In App Purchases Editors Choice         Scraped Time  \n",
       "0            False          False  2021-06-15 20:19:35  \n",
       "1            False          False  2021-06-15 20:19:35  \n",
       "2            False          False  2021-06-15 20:19:35  \n",
       "3            False          False  2021-06-15 20:19:35  \n",
       "4            False          False  2021-06-15 20:19:35  \n",
       "\n",
       "[5 rows x 24 columns]"
      ]
     },
     "execution_count": 3,
     "metadata": {},
     "output_type": "execute_result"
    }
   ],
   "source": [
    "import pandas as pd\n",
    "df_google_playstore = pd.read_csv('Google_Playstore.csv')\n",
    "df_google_playstore.head()"
   ]
  },
  {
   "cell_type": "code",
   "execution_count": 4,
   "id": "7c6bed55",
   "metadata": {
    "id": "7c6bed55",
    "outputId": "da46f81d-295a-4098-e96e-5f20f21e0dbe"
   },
   "outputs": [
    {
     "data": {
      "text/plain": [
       "Index([], dtype='object')"
      ]
     },
     "execution_count": 4,
     "metadata": {},
     "output_type": "execute_result"
    }
   ],
   "source": [
    "# Yêu cầu: Hãy quan sát những cột dữ liệu có kiểu là datetime\n",
    "datetime_columns = df_google_playstore.select_dtypes(include=['datetime64']).columns\n",
    "datetime_columns "
   ]
  },
  {
   "cell_type": "markdown",
   "id": "30abe5bc",
   "metadata": {
    "id": "30abe5bc"
   },
   "source": [
    "Kết quả trả về cho thấy không có cột dữ liệu nào mang kiểu datetime, tuy nhiên hãy xem xét lại bộ dữ liệu"
   ]
  },
  {
   "cell_type": "code",
   "execution_count": 5,
   "id": "95746ceb",
   "metadata": {
    "id": "95746ceb",
    "outputId": "1b187f3e-ae23-4ae6-d912-92bfee1f9ea6"
   },
   "outputs": [
    {
     "data": {
      "text/plain": [
       "Index(['App Name', 'App Id', 'Category', 'Installs', 'Currency', 'Size',\n",
       "       'Minimum Android', 'Developer Id', 'Developer Website',\n",
       "       'Developer Email', 'Released', 'Last Updated', 'Content Rating',\n",
       "       'Privacy Policy', 'Scraped Time'],\n",
       "      dtype='object')"
      ]
     },
     "execution_count": 5,
     "metadata": {},
     "output_type": "execute_result"
    }
   ],
   "source": [
    "# Yêu cầu: Hãy quan sát những cột dữ liệu có kiểu là Object\n",
    "object_columns = df_google_playstore.select_dtypes(include=['object']).columns\n",
    "object_columns "
   ]
  },
  {
   "cell_type": "markdown",
   "id": "06f3a971",
   "metadata": {
    "id": "06f3a971"
   },
   "source": [
    "Mặc dù đang không có kiểu dữ liệu là datetime, nhưng có thể dễ dàng nhận ra 3 cột Released, Last Updated và Scraped Time đang là datetime. Do đó cần chuyển cột dữ liệu này về đúng định dạng"
   ]
  },
  {
   "cell_type": "code",
   "execution_count": 6,
   "id": "9c9f2db6",
   "metadata": {
    "id": "9c9f2db6"
   },
   "outputs": [],
   "source": [
    "# Yêu cầu: Chuyển đổi dữ liệu của 3 cột Released, Last Updated và Scraped Time về dạng datetime\n",
    "datetime_cols = ['Released', 'Last Updated', 'Scraped Time']\n",
    "for col in datetime_cols:\n",
    "    df_google_playstore[col] = pd.to_datetime(df_google_playstore[col])\n",
    "\n",
    "# Lưu ý: cell này có thể mất ít phút để thực thi xong"
   ]
  },
  {
   "cell_type": "code",
   "execution_count": 7,
   "id": "4981733b",
   "metadata": {
    "id": "4981733b",
    "outputId": "1e7a8103-59dd-4a73-f103-0637368556ee"
   },
   "outputs": [
    {
     "name": "stdout",
     "output_type": "stream",
     "text": [
      "App Name                     object\n",
      "App Id                       object\n",
      "Category                     object\n",
      "Rating                      float64\n",
      "Rating Count                float64\n",
      "Installs                     object\n",
      "Minimum Installs            float64\n",
      "Maximum Installs              int64\n",
      "Free                           bool\n",
      "Price                       float64\n",
      "Currency                     object\n",
      "Size                         object\n",
      "Minimum Android              object\n",
      "Developer Id                 object\n",
      "Developer Website            object\n",
      "Developer Email              object\n",
      "Released             datetime64[ns]\n",
      "Last Updated         datetime64[ns]\n",
      "Content Rating               object\n",
      "Privacy Policy               object\n",
      "Ad Supported                   bool\n",
      "In App Purchases               bool\n",
      "Editors Choice                 bool\n",
      "Scraped Time         datetime64[ns]\n",
      "dtype: object\n"
     ]
    }
   ],
   "source": [
    "print(df_google_playstore.dtypes)"
   ]
  },
  {
   "cell_type": "code",
   "execution_count": 8,
   "id": "af40d1a3-99ea-46ad-8ff1-3e10dde5e214",
   "metadata": {},
   "outputs": [
    {
     "name": "stdout",
     "output_type": "stream",
     "text": [
      "Tháng thường phát hành ứng dụng nhiều nhất là tháng số: 5.0\n"
     ]
    }
   ],
   "source": [
    "\n",
    "df_google_playstore['Released_Month'] = df_google_playstore['Released'].dt.month\n",
    "released_month_counts = df_google_playstore['Released_Month'].value_counts()\n",
    "\n",
    "most_released_month = released_month_counts.idxmax()\n",
    "print(\"Tháng thường phát hành ứng dụng nhiều nhất là tháng số:\", most_released_month)\n"
   ]
  },
  {
   "cell_type": "code",
   "execution_count": null,
   "id": "ed1b01ef",
   "metadata": {
    "id": "ed1b01ef",
    "outputId": "c0131c8e-675e-4fec-d90a-2042261052d9"
   },
   "outputs": [
    {
     "data": {
      "text/plain": [
       "5.0     206263\n",
       "3.0     201534\n",
       "4.0     196179\n",
       "10.0    187927\n",
       "1.0     186607\n",
       "6.0     184304\n",
       "12.0    182067\n",
       "2.0     181248\n",
       "7.0     181137\n",
       "9.0     180192\n",
       "11.0    178313\n",
       "8.0     176120\n",
       "Name: Released, dtype: int64"
      ]
     },
     "execution_count": 6,
     "metadata": {},
     "output_type": "execute_result"
    }
   ],
   "source": [
    "# Yêu cầu: Tìm hiểu tháng nào thường phát hành ứng dụng nhiều nhất\n",
    "df_google_playstore['Released']..."
   ]
  },
  {
   "cell_type": "code",
   "execution_count": 9,
   "id": "158dad93",
   "metadata": {
    "id": "158dad93",
    "outputId": "ae19ef75-8d5d-41ec-91bf-bb85b813c3c2"
   },
   "outputs": [
    {
     "name": "stdout",
     "output_type": "stream",
     "text": [
      "Năm thường phát hành ứng dụng nhiều nhất là năm: 2020.0\n"
     ]
    }
   ],
   "source": [
    "# Yêu cầu: Tìm hiểu năm nào phát hành ứng dụng nhiều nhất\n",
    "df_google_playstore['Released_Year'] = df_google_playstore['Released'].dt.year\n",
    "released_year_counts = df_google_playstore['Released_Year'].value_counts()\n",
    "most_released_year = released_year_counts.idxmax()\n",
    "print(\"Năm thường phát hành ứng dụng nhiều nhất là năm:\", most_released_year)"
   ]
  },
  {
   "cell_type": "code",
   "execution_count": null,
   "id": "3d38807a",
   "metadata": {
    "id": "3d38807a",
    "outputId": "daeaa731-847e-4aef-d6b0-c63771567652"
   },
   "outputs": [
    {
     "data": {
      "text/plain": [
       "Timestamp('2009-02-09 00:00:00')"
      ]
     },
     "execution_count": 8,
     "metadata": {},
     "output_type": "execute_result"
    }
   ],
   "source": [
    "# Yêu cầu: Tìm hiểu ứng dụng nào lâu rồi chưa cập nhật\n",
    "df_google_playstore['Last Updated']..."
   ]
  },
  {
   "cell_type": "code",
   "execution_count": 10,
   "id": "b06dadb1",
   "metadata": {
    "id": "b06dadb1"
   },
   "outputs": [
    {
     "name": "stdout",
     "output_type": "stream",
     "text": [
      "Thông tin ứng dụng lâu rồi chưa cập nhật:\n",
      "App Name                                                    Spin the Bottle\n",
      "App Id                                                       com.idean.spin\n",
      "Category                                                             Casual\n",
      "Rating                                                                  3.3\n",
      "Rating Count                                                         4203.0\n",
      "Installs                                                         1,000,000+\n",
      "Minimum Installs                                                  1000000.0\n",
      "Maximum Installs                                                    1360254\n",
      "Free                                                                   True\n",
      "Price                                                                   0.0\n",
      "Currency                                                                USD\n",
      "Size                                                                   290k\n",
      "Minimum Android                                                  1.6 and up\n",
      "Developer Id                                                Tomi Mickelsson\n",
      "Developer Website                                      http://tomicloud.com\n",
      "Developer Email                                   tomi.mickelsson@gmail.com\n",
      "Released                                                2011-04-13 00:00:00\n",
      "Last Updated                                            2009-02-09 00:00:00\n",
      "Content Rating                                                     Everyone\n",
      "Privacy Policy            https://github.com/tomimick/tomicloud.com/blob...\n",
      "Ad Supported                                                          False\n",
      "In App Purchases                                                      False\n",
      "Editors Choice                                                        False\n",
      "Scraped Time                                            2021-06-16 08:55:23\n",
      "Released_Month                                                          4.0\n",
      "Released_Year                                                        2011.0\n",
      "Days_Since_Last_Update                                                 5593\n",
      "Name: 782134, dtype: object\n"
     ]
    }
   ],
   "source": [
    "df_google_playstore['Days_Since_Last_Update'] = (pd.to_datetime('today') - df_google_playstore['Last Updated']).dt.days\n",
    "\n",
    "oldest_app_without_update = df_google_playstore.loc[df_google_playstore['Days_Since_Last_Update'].idxmax()]\n",
    "\n",
    "print(\"Thông tin ứng dụng lâu rồi chưa cập nhật:\")\n",
    "print(oldest_app_without_update)"
   ]
  },
  {
   "cell_type": "code",
   "execution_count": null,
   "id": "eb6b8cab-5bc3-408e-a6f6-1581d71feab7",
   "metadata": {},
   "outputs": [],
   "source": []
  }
 ],
 "metadata": {
  "colab": {
   "provenance": []
  },
  "kernelspec": {
   "display_name": "Python 3 (ipykernel)",
   "language": "python",
   "name": "python3"
  },
  "language_info": {
   "codemirror_mode": {
    "name": "ipython",
    "version": 3
   },
   "file_extension": ".py",
   "mimetype": "text/x-python",
   "name": "python",
   "nbconvert_exporter": "python",
   "pygments_lexer": "ipython3",
   "version": "3.11.7"
  }
 },
 "nbformat": 4,
 "nbformat_minor": 5
}
