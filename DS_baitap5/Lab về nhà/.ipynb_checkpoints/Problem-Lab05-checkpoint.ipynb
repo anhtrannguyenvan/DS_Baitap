{
 "cells": [
  {
   "cell_type": "markdown",
   "metadata": {
    "id": "jxgT4r6ovuvd"
   },
   "source": [
    "#Bài tập 1: Thao tác với ma trận  \n",
    "**Lý thuyết**:  \n",
    "NumPy cung cấp các công cụ mạnh mẽ để thao tác ma trận, bao gồm tính toán các định thức, tìm nghịch đảo và tính toán các giá trị riêng và vectơ riêng.\n",
    "  \n",
    "**Đề bài**:  \n",
    "Tạo ma trận 5x5 ngẫu nhiên và thực hiện các thao tác sau:  \n",
    "* Tính định thức (determinant) của ma trận.  \n",
    "* Tìm nghịch đảo (transpose) của ma trận.  \n",
    "* Tính các giá trị riêng (eigent value) và vectơ riêng (eigent vector) của ma trận.   \n",
    "(Phần này sẽ liên quan tới đại số tuyến tính, mọi người có thể tự tìm hiểu để hiểu chi tiết về các khái niệm trên)\n",
    "\n",
    "<details>\n",
    "  <summary>Hint</summary>\n",
    "\n",
    "```python\n",
    "import numpy as np\n",
    "\n",
    "# Generate a random 5x5 matrix\n",
    "matrix = np.random.rand(5, 5)\n",
    "\n",
    "# Compute determinant\n",
    "det = np.linalg.det(matrix)\n",
    "\n",
    "# Find inverse\n",
    "inverse = np.linalg.inv(matrix)\n",
    "\n",
    "# Calculate eigenvalues and eigenvectors\n",
    "eigenvalues, eigenvectors = np.linalg.eig(matrix)\n",
    "\n",
    "```\n",
    "</details>"
   ]
  },
  {
   "cell_type": "code",
   "execution_count": 8,
   "metadata": {
    "executionInfo": {
     "elapsed": 2,
     "status": "ok",
     "timestamp": 1711943184294,
     "user": {
      "displayName": "Nha Nguyen",
      "userId": "05581690424976052134"
     },
     "user_tz": -420
    },
    "id": "-SEd8zd9tBN8"
   },
   "outputs": [
    {
     "data": {
      "text/plain": [
       "EigResult(eigenvalues=array([ 1.90391857+0.j        , -0.17508988+0.j        ,\n",
       "        0.13596062+0.j        ,  0.51599831+0.26657804j,\n",
       "        0.51599831-0.26657804j]), eigenvectors=array([[ 0.32695229+0.j        ,  0.56101458+0.j        ,\n",
       "        -0.20802052+0.j        , -0.1353122 -0.01575443j,\n",
       "        -0.1353122 +0.01575443j],\n",
       "       [ 0.17894436+0.j        , -0.63292862+0.j        ,\n",
       "         0.7543266 +0.j        , -0.10237328+0.0008413j ,\n",
       "        -0.10237328-0.0008413j ],\n",
       "       [ 0.51105596+0.j        , -0.30799878+0.j        ,\n",
       "        -0.23081912+0.j        , -0.09079613+0.58078715j,\n",
       "        -0.09079613-0.58078715j],\n",
       "       [ 0.578905  +0.j        ,  0.18575031+0.j        ,\n",
       "        -0.21145009+0.j        ,  0.65485922+0.j        ,\n",
       "         0.65485922-0.j        ],\n",
       "       [ 0.51455993+0.j        ,  0.39407814+0.j        ,\n",
       "        -0.53826595+0.j        , -0.13312557-0.42289566j,\n",
       "        -0.13312557+0.42289566j]]))"
      ]
     },
     "execution_count": 8,
     "metadata": {},
     "output_type": "execute_result"
    }
   ],
   "source": [
    "# Your code here\n",
    "import numpy as np\n",
    " \n",
    "#Generate matrix\n",
    "matrix = np.random.rand(5,5)\n",
    "matrix\n",
    "\n",
    "# Compute determinant\n",
    "det = np.linalg.det(matrix)\n",
    "det\n",
    "# Tranpose of matrix\n",
    "matrix_transpose = matrix.transpose()\n",
    "\n",
    "# Calculate eigenvalues and eigenvectors\n",
    "matrix_vectors = np.linalg.eig(matrix)\n",
    "matrix_vectors"
   ]
  },
  {
   "cell_type": "markdown",
   "metadata": {
    "id": "j5y16Eqkxd_o"
   },
   "source": [
    "# Bài tập 2: Optimization\n",
    "**Lý thuyết:**  \n",
    "Gradient descent là một thuật toán tối ưu hóa được sử dụng để cực tiểu hóa hàm bằng cách di chuyển lặp đi lặp lại theo hướng dốc xuống.\n",
    "\n",
    "**Đề bài:**  \n",
    "Triển khai gradient descent sử dụng NumPy để tối ưu hàm số sau:\n",
    " $$ f(x) = x^2 + 5 \\sin(x) $$\n",
    "<details>\n",
    "  <summary>Hint</summary>\n",
    "\n",
    "```python\n",
    "import numpy as np\n",
    "\n",
    "def gradient_descent(x, learning_rate, iterations):\n",
    "    for _ in range(iterations):\n",
    "        gradient = 2*x + 5*np.cos(x)  # Đạo hàm riêng theo x\n",
    "        x = x - learning_rate * gradient # Cập nhật tham số\n",
    "    return x\n",
    "\n",
    "# Khởi tạo các hyperparameters\n",
    "x_initial = 5  # Input đầu vào\n",
    "learning_rate = 0.1 # Tốc độ học\n",
    "iterations = 100 # Số lần lặp\n",
    "\n",
    "# Run gradient descent\n",
    "minima = gradient_descent(x_initial, learning_rate, iterations)\n",
    "```\n",
    "\n",
    "</details>"
   ]
  },
  {
   "cell_type": "code",
   "execution_count": 6,
   "metadata": {
    "executionInfo": {
     "elapsed": 2,
     "status": "ok",
     "timestamp": 1711943686064,
     "user": {
      "displayName": "Nha Nguyen",
      "userId": "05581690424976052134"
     },
     "user_tz": -420
    },
    "id": "s3Q3kOnuwxxW"
   },
   "outputs": [],
   "source": [
    "# Your code here\n",
    "import numpy as np\n",
    "\n",
    "def gardient_descent(x, learning_rate, iterations):\n",
    "    for _ in range(iterations):\n",
    "        gardient = 2*x + 5*np.cos(x) \n",
    "        x = x - learning_rate * gardient\n",
    "    return x\n",
    "\n",
    "#Create hyperparameters\n",
    "x_initial = 5\n",
    "learning_rate = 0.1\n",
    "iterations =  100\n",
    "#Run\n",
    "minima = gardient_descent(x_initial, learning_rate, iterations)"
   ]
  },
  {
   "cell_type": "markdown",
   "metadata": {
    "id": "r9TwMgo-y5tm"
   },
   "source": [
    "# Bài tập 3: Phân tích thống kê  \n",
    "**Lý thuyết**:  \n",
    "NumPy cung cấp các chức năng để phân tích thống kê, bao gồm tính toán giá trị trung bình (mean), trung vị (median), độ lệch chuẩn (standard deviation) và mối tương quan (correlation).  \n",
    "\n",
    "**Đề Bài**:  \n",
    "Thực hiện phân tích thống kê trên tập dữ liệu bai3.csv bằng NumPy:  \n",
    "* Tính giá trị trung bình, trung vị và độ lệch chuẩn của tập dữ liệu.\n",
    "* Tính toán ma trận tương quan giữa các biến khác nhau.\n",
    "* Xác định các ngoại lệ trong tập dữ liệu bằng cách sử dụng điểm z.\n",
    "\n",
    "<details>\n",
    "  <summary>Hint</summary>\n",
    "\n",
    "```python\n",
    "  # Load dataset\n",
    "  data = np.loadtxt('dataset.csv', delimiter=',')\n",
    "\n",
    "  # Calculate mean, median, and standard deviation\n",
    "  mean = np.mean(data, axis=0)\n",
    "  median = np.median(data, axis=0)\n",
    "  std_dev = np.std(data, axis=0)\n",
    "\n",
    "  # Compute correlation matrix\n",
    "  correlation_matrix = np.corrcoef(data, rowvar=False)\n",
    "\n",
    "  # Identify outliers using z-scores\n",
    "  z_scores = np.abs((data - mean) / std_dev)\n",
    "  outliers = np.where(z_scores > 3)\n",
    "```\n",
    "</details>"
   ]
  },
  {
   "cell_type": "code",
   "execution_count": 12,
   "metadata": {
    "id": "KjYxequp1pld"
   },
   "outputs": [
    {
     "data": {
      "text/plain": [
       "(array([], dtype=int64), array([], dtype=int64))"
      ]
     },
     "execution_count": 12,
     "metadata": {},
     "output_type": "execute_result"
    }
   ],
   "source": [
    "# Your code here\n",
    "#Load dataset\n",
    "data = np.loadtxt('bai3.csv', delimiter = ',', skiprows=1)\n",
    "data\n",
    "# Calculate mean, median, and standard deviation\n",
    "mean = np.mean(data, axis=0)\n",
    "median = np.median(data, axis=0)\n",
    "std_dev = np.std(data, axis=0)\n",
    "\n",
    "# Compute correlation matrix\n",
    "correlation_matrix = np.corrcoef(data, rowvar=False)\n",
    "\n",
    "# Identify outliers using z-scores\n",
    "z_scores = np.abs((data - mean) / std_dev)\n",
    "outliers = np.where(z_scores > 3)\n"
   ]
  },
  {
   "cell_type": "markdown",
   "metadata": {
    "id": "ZX1eKlF805bM"
   },
   "source": [
    "# Bài 4: Thao tác với tensor\n",
    "Đề cho một tensor đại diện cho một hình ảnh thang độ xám. Thực hiện các thao tác sau:\n",
    "\n",
    "1. Reshape: Reshape tensor thành một hình dạng khác trong khi vẫn đảm bảo tổng số phần tử không đổi.\n",
    "2. Transpose: Transpose tensor dọc theo các trục được chỉ định.\n",
    "3. Slice: Trích xuất một tập hợp con của tensor bằng cách cắt dọc theo các kích thước được chỉ định.\n",
    "4. Concatenate: Concatenate nhiều tensor dọc theo các trục được chỉ định.\n",
    "5. Các phép toán theo phần tử: Thực hiện các phép toán theo phần tử như cộng, trừ, nhân và chia với các giá trị vô hướng hoặc các tensor khác.\n",
    "6. Hoạt động rút gọn: Thực hiện các hoạt động rút gọn như tính tổng, trung bình, tối thiểu và tối đa dọc theo các trục được chỉ định.\n",
    "7. Indexing: Truy cập các phần tử riêng lẻ hoặc các tensor phụ bằng cách sử dụng các chỉ số nguyên hoặc boolean mark.\n",
    "\n",
    "<details>\n",
    "  <summary>Hint</summary>\n",
    "\n",
    "  ```python\n",
    "    # 1. Reshape the tensor\n",
    "    reshaped_tensor = image_tensor.reshape(1, 9)\n",
    "\n",
    "    # 2. Transpose the tensor\n",
    "    transposed_tensor = image_tensor.T\n",
    "\n",
    "    # 3. Slice the tensor\n",
    "    sliced_tensor = image_tensor[:2, :2]\n",
    "\n",
    "    # 4. Concatenate tensors\n",
    "    concatenated_tensor = np.concatenate((image_tensor, image_tensor), axis=0)\n",
    "\n",
    "    # 5. Element-wise operations\n",
    "    added_tensor = image_tensor + 0.1\n",
    "    multiplied_tensor = image_tensor * 2\n",
    "\n",
    "    # 6. Reduction operations\n",
    "    sum_tensor = np.sum(image_tensor)\n",
    "    mean_tensor = np.mean(image_tensor, axis=0)\n",
    "    max_tensor = np.max(image_tensor, axis=1)\n",
    "\n",
    "    # 7. Indexing\n",
    "    element = image_tensor[1, 2]\n",
    "  ```\n",
    "</details>"
   ]
  },
  {
   "cell_type": "code",
   "execution_count": 16,
   "metadata": {
    "executionInfo": {
     "elapsed": 2,
     "status": "ok",
     "timestamp": 1711944428036,
     "user": {
      "displayName": "Nha Nguyen",
      "userId": "05581690424976052134"
     },
     "user_tz": -420
    },
    "id": "sKx_zUMw041d"
   },
   "outputs": [
    {
     "data": {
      "text/plain": [
       "array([[0.1, 0.2, 0.3],\n",
       "       [0.4, 0.5, 0.6],\n",
       "       [0.7, 0.8, 0.9]])"
      ]
     },
     "execution_count": 16,
     "metadata": {},
     "output_type": "execute_result"
    }
   ],
   "source": [
    "image_tensor = np.array([\n",
    "    [0.1, 0.2, 0.3],\n",
    "    [0.4, 0.5, 0.6],\n",
    "    [0.7, 0.8, 0.9]\n",
    "])\n"
   ]
  },
  {
   "cell_type": "code",
   "execution_count": 22,
   "metadata": {
    "id": "aDy3tPzby5RN"
   },
   "outputs": [],
   "source": [
    "# your code here\n",
    "# Reshap tensor\n",
    "reshaped_tensor = image_tensor.reshape(1,9)\n",
    "\n",
    "\n",
    "#Transpose tensor\n",
    "transpose_tensor = image_tensor.T\n",
    "transpose_tensor\n",
    "\n",
    "\n",
    "#Slice the tensor\n",
    "sliced_tensor = image_tensor[:2, :2]\n",
    "\n",
    "#Concatenate tensors\n",
    "concatenated_tensor = np.concatenate((image_tensor, image_tensor), axis=0)\n",
    "\n",
    "#Element-wise operations\n",
    "added_tensor = image_tensor + 0.1\n",
    "multiplied_tensor = image_tensor * 2\n",
    "\n",
    "# Reduction operations\n",
    "sum_tensor = np.sum(image_tensor)\n",
    "mean_tensor = np.mean(image_tensor, axis=0)\n",
    "max_tensor = np.max(image_tensor, axis=1)\n",
    "\n",
    "# Indexing\n",
    "element = image_tensor[1, 2]\n",
    "\n"
   ]
  }
 ],
 "metadata": {
  "colab": {
   "authorship_tag": "ABX9TyMk1q12/N28maJwPQwRv9wn",
   "provenance": []
  },
  "kernelspec": {
   "display_name": "Python 3 (ipykernel)",
   "language": "python",
   "name": "python3"
  },
  "language_info": {
   "codemirror_mode": {
    "name": "ipython",
    "version": 3
   },
   "file_extension": ".py",
   "mimetype": "text/x-python",
   "name": "python",
   "nbconvert_exporter": "python",
   "pygments_lexer": "ipython3",
   "version": "3.11.7"
  }
 },
 "nbformat": 4,
 "nbformat_minor": 4
}
