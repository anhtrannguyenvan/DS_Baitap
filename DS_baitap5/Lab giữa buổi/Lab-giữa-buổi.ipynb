{
 "cells": [
  {
   "cell_type": "code",
   "execution_count": 2,
   "metadata": {
    "id": "eqbH_2HhpvYh"
   },
   "outputs": [],
   "source": [
    "import numpy as np\n",
    "np.random.seed(42)"
   ]
  },
  {
   "cell_type": "markdown",
   "metadata": {
    "id": "X8tlbogelj-t"
   },
   "source": [
    "# Problem 1: Tạo hai ma trận 3x3 với các phần tử integer ngẫu nhiên từ 1 - 10."
   ]
  },
  {
   "cell_type": "code",
   "execution_count": 4,
   "metadata": {
    "id": "sV2WdE6nlTrD"
   },
   "outputs": [
    {
     "name": "stdout",
     "output_type": "stream",
     "text": [
      "[[5 4 8]\n",
      " [8 3 6]\n",
      " [5 2 8]]\n",
      "[[ 6  2  5]\n",
      " [ 1 10  6]\n",
      " [ 9  1 10]]\n"
     ]
    }
   ],
   "source": [
    "# Your code here\n",
    "matrix1 = np.random.randint(1,11, size=(3,3))\n",
    "matrix2 = np.random.randint(1,11, size=(3,3))\n",
    "print(matrix1)\n",
    "print(matrix2)"
   ]
  },
  {
   "cell_type": "markdown",
   "metadata": {
    "id": "bgEJURQnpxD_"
   },
   "source": [
    "# Problem 2: Thực hiện phép cộng phần tử, nhân từng phần tử, tích vô hướng với hai ma trận vừa được tạo.\n"
   ]
  },
  {
   "cell_type": "code",
   "execution_count": 11,
   "metadata": {
    "id": "c90439lApclu"
   },
   "outputs": [
    {
     "name": "stdout",
     "output_type": "stream",
     "text": [
      "[[11  6 13]\n",
      " [ 9 13 12]\n",
      " [14  3 18]]\n",
      "[[30  8 40]\n",
      " [ 8 30 36]\n",
      " [45  2 80]]\n",
      "[[106  58 129]\n",
      " [105  52 118]\n",
      " [104  38 117]]\n"
     ]
    }
   ],
   "source": [
    "# Your code here\n",
    "sum_matrix = np.add(matrix1, matrix2)\n",
    "print(sum_matrix)\n",
    "\n",
    "mul_matrix = np.multiply(matrix1, matrix2)\n",
    "print(mul_matrix)\n",
    "\n",
    "dot_matrix = np.dot(matrix1, matrix2)\n",
    "print(dot_matrix)"
   ]
  },
  {
   "cell_type": "markdown",
   "metadata": {
    "id": "O7LAFDMlqK2g"
   },
   "source": [
    "# Problem 3: VIết hàm nhận vào một mảng Numpy, sau đó trả về tổng tất cả các phần tử của chúng\n"
   ]
  },
  {
   "cell_type": "code",
   "execution_count": 10,
   "metadata": {
    "id": "9noxlvtZpebU"
   },
   "outputs": [
    {
     "name": "stdout",
     "output_type": "stream",
     "text": [
      "Tổng của mảng là: 21\n"
     ]
    }
   ],
   "source": [
    "# Your code \n",
    "def sum_of_array(arr):\n",
    "    total_sum = np.sum(arr)\n",
    "    return total_sum\n",
    "    \n",
    "array = np.array([[1, 2, 3], [4, 5, 6]])\n",
    "total = sum_of_array(array)\n",
    "print(\"Tổng của mảng là:\", total)\n"
   ]
  },
  {
   "cell_type": "code",
   "execution_count": null,
   "metadata": {},
   "outputs": [],
   "source": []
  }
 ],
 "metadata": {
  "colab": {
   "authorship_tag": "ABX9TyMvHkhs3h3LmpCDSWhYnITs",
   "provenance": []
  },
  "kernelspec": {
   "display_name": "Python 3 (ipykernel)",
   "language": "python",
   "name": "python3"
  },
  "language_info": {
   "codemirror_mode": {
    "name": "ipython",
    "version": 3
   },
   "file_extension": ".py",
   "mimetype": "text/x-python",
   "name": "python",
   "nbconvert_exporter": "python",
   "pygments_lexer": "ipython3",
   "version": "3.11.7"
  }
 },
 "nbformat": 4,
 "nbformat_minor": 4
}
